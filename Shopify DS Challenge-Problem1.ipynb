{
 "cells": [
  {
   "cell_type": "markdown",
   "id": "fb2286d5",
   "metadata": {},
   "source": [
    "## Problem 1a"
   ]
  },
  {
   "cell_type": "markdown",
   "id": "f700ed27",
   "metadata": {},
   "source": [
    "import pandas as pd\n",
    "import matplotlib.pyplot as plt"
   ]
  },
  {
   "cell_type": "markdown",
   "id": "c6d6a230",
   "metadata": {},
   "source": [
    "### Retrieve data from URL and create a dataframe"
   ]
  },
  {
   "cell_type": "code",
   "execution_count": 56,
   "id": "73168f6f",
   "metadata": {
    "scrolled": true
   },
   "outputs": [],
   "source": [
    "googleSheetId = '16i38oonuX1y1g7C_UAmiK9GkY7cS-64DfiDMNiR41LM'\n",
    "worksheetName = 'Sheet1'\n",
    "URL = 'https://docs.google.com/spreadsheets/d/%s/gviz/tq?tqx=out:csv&sheet=%s' % (googleSheetId,worksheetName)\n",
    "df = pd.read_csv(URL)\n",
    "df.head()\n",
    "\n",
    "#add a field representing the price of each pair of shoes\n",
    "df['price_per_pair'] = df['order_amount']/df['total_items']"
   ]
  },
  {
   "cell_type": "markdown",
   "id": "d002c7b3",
   "metadata": {},
   "source": [
    "### Get an overview of the dataset"
   ]
  },
  {
   "cell_type": "code",
   "execution_count": 57,
   "id": "0d93507c",
   "metadata": {},
   "outputs": [
    {
     "name": "stdout",
     "output_type": "stream",
     "text": [
      "          order_id      shop_id      user_id   order_amount  total_items  \\\n",
      "count  5000.000000  5000.000000  5000.000000    5000.000000   5000.00000   \n",
      "mean   2500.500000    50.078800   849.092400    3145.128000      8.78720   \n",
      "std    1443.520003    29.006118    87.798982   41282.539349    116.32032   \n",
      "min       1.000000     1.000000   607.000000      90.000000      1.00000   \n",
      "25%    1250.750000    24.000000   775.000000     163.000000      1.00000   \n",
      "50%    2500.500000    50.000000   849.000000     284.000000      2.00000   \n",
      "75%    3750.250000    75.000000   925.000000     390.000000      3.00000   \n",
      "max    5000.000000   100.000000   999.000000  704000.000000   2000.00000   \n",
      "\n",
      "       price_per_pair  \n",
      "count     5000.000000  \n",
      "mean       387.742800  \n",
      "std       2441.963725  \n",
      "min         90.000000  \n",
      "25%        133.000000  \n",
      "50%        153.000000  \n",
      "75%        169.000000  \n",
      "max      25725.000000  \n",
      "<class 'pandas.core.frame.DataFrame'>\n",
      "RangeIndex: 5000 entries, 0 to 4999\n",
      "Data columns (total 8 columns):\n",
      " #   Column          Non-Null Count  Dtype  \n",
      "---  ------          --------------  -----  \n",
      " 0   order_id        5000 non-null   int64  \n",
      " 1   shop_id         5000 non-null   int64  \n",
      " 2   user_id         5000 non-null   int64  \n",
      " 3   order_amount    5000 non-null   int64  \n",
      " 4   total_items     5000 non-null   int64  \n",
      " 5   payment_method  5000 non-null   object \n",
      " 6   created_at      5000 non-null   object \n",
      " 7   price_per_pair  5000 non-null   float64\n",
      "dtypes: float64(1), int64(5), object(2)\n",
      "memory usage: 312.6+ KB\n"
     ]
    }
   ],
   "source": [
    "print(df.describe())\n",
    "\n",
    "df.info()\n"
   ]
  },
  {
   "cell_type": "markdown",
   "id": "6a79526f",
   "metadata": {},
   "source": [
    "As can be seen from data description, the $3145.13 average order value (AOV) is the mean of the field 'order_amount'. \n",
    "\n",
    "The standard deviation for this field is $41282.539349. The standard deviation indicates how spread out the data are from the mean value. In this case, the standard deviation is very large, meaning the data points are spread out over a large range of values. While the 75th percentile is 390, the maximum value is 704000 in this field, meaning that there are large outliers.The shop with maximum 'order_amount' sells 2000 each order while the number of shoes in other orders are much smaller. Therefore, I assume the shop with maximum 'order_amount' are doing some types of wholesales while the rest are retailers. \n",
    "\n",
    "Similarly, the standard deviation for the 'price_per_pair' field is very large ($2441.963725), and the difference in the 75 percentile ($169) and the maximum value ($25725) is huge. Therefore, there are also outlier in the shoes price among the shops. I assume the shop that sells $25725 shoes sell hype shoes. This outliers also affect the 'order_amount' field.\n",
    "\n",
    "It is not reasonable to calculate the mean because the data contains so many outliers. Nothing is wrong with the calculation, but it is not a good way to evaluate this dataset.\n",
    "\n",
    "A better way to evaluate this data is to use median instead of mean to get the Average Order Value(AOV)\n"
   ]
  },
  {
   "cell_type": "markdown",
   "id": "ed618431",
   "metadata": {},
   "source": [
    "# Problem 1b"
   ]
  },
  {
   "cell_type": "markdown",
   "id": "d24d6101",
   "metadata": {},
   "source": [
    "I would still use the 'order_amount' attribute to report for this dataset. As the goal is to do some analysis on the Average Order Value, this is the most appropriate attribute to use."
   ]
  },
  {
   "cell_type": "markdown",
   "id": "c6cb7f05",
   "metadata": {},
   "source": [
    "# Problem 1c"
   ]
  },
  {
   "cell_type": "code",
   "execution_count": 58,
   "id": "630117f3",
   "metadata": {},
   "outputs": [
    {
     "data": {
      "text/plain": [
       "284.0"
      ]
     },
     "execution_count": 58,
     "metadata": {},
     "output_type": "execute_result"
    }
   ],
   "source": [
    "df['order_amount'].median()"
   ]
  },
  {
   "cell_type": "markdown",
   "id": "462e57a7",
   "metadata": {},
   "source": [
    "The median value of the 'order_amount' metric is 284, so the value I need to find is $284"
   ]
  }
 ],
 "metadata": {
  "kernelspec": {
   "display_name": "Python 3",
   "language": "python",
   "name": "python3"
  },
  "language_info": {
   "codemirror_mode": {
    "name": "ipython",
    "version": 3
   },
   "file_extension": ".py",
   "mimetype": "text/x-python",
   "name": "python",
   "nbconvert_exporter": "python",
   "pygments_lexer": "ipython3",
   "version": "3.8.8"
  }
 },
 "nbformat": 4,
 "nbformat_minor": 5
}
